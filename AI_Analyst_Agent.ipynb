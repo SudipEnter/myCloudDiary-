{
  "cells": [
    {
      "cell_type": "markdown",
      "metadata": {
        "id": "view-in-github",
        "colab_type": "text"
      },
      "source": [
        "<a href=\"https://colab.research.google.com/github/SudipEnter/myCloudDiary-/blob/main/AI_Analyst_Agent.ipynb\" target=\"_parent\"><img src=\"https://colab.research.google.com/assets/colab-badge.svg\" alt=\"Open In Colab\"/></a>"
      ]
    },
    {
      "cell_type": "code",
      "source": [
        "# -*- coding: utf-8 -*-\n",
        "\"\"\"\n",
        "This file contains the main logic for the AI Analyst for Startup Evaluation.\n",
        "\"\"\"\n",
        "\n",
        "from google.adk import Agent\n",
        "from google.adk.agents import LlmAgent, SequentialAgent\n",
        "from google.adk.tools import google_search\n",
        "\n",
        "# Import the instructions from the instructions file\n",
        "import instructions\n",
        "\n",
        "# It is assumed that tools for processing different data formats (text, voice, video)\n",
        "# would be available or would be built. For this example, we will focus on the\n",
        "# agent architecture and use Google Search as a representative tool.\n",
        "\n",
        "# Agent 1: Multi-Format Data Processor\n",
        "multi_format_data_processor = LlmAgent(\n",
        "    name=\"MultiFormatDataProcessor\",\n",
        "    model=\"gemini-2.5-pro\",\n",
        "    description=\"Processes startup data from various formats.\",\n",
        "    instruction=instructions.MULTI_FORMAT_DATA_PROCESSOR_INSTRUCTIONS,\n",
        "    # In a real implementation, this would include tools for PDF, audio, and video processing.\n",
        "    tools=[google_search],\n",
        "    output_key=\"structured_startup_data\"\n",
        ")\n",
        "\n",
        "# Agent 2: Public Data Enrichment Analyst\n",
        "public_data_enrichment_analyst = LlmAgent(\n",
        "    name=\"PublicDataEnrichmentAnalyst\",\n",
        "    model=\"gemini-2.5-pro\",\n",
        "    description=\"Enriches startup data with information from public sources.\",\n",
        "    instruction=instructions.PUBLIC_DATA_ENRICHMENT_ANALYST_INSTRUCTIONS,\n",
        "    tools=[google_search],\n",
        "    output_key=\"enriched_startup_data\"\n",
        ")\n",
        "\n",
        "# Agent 3: Comprehensive Evaluation Engine\n",
        "comprehensive_evaluation_engine = LlmAgent(\n",
        "    name=\"ComprehensiveEvaluationEngine\",\n",
        "    model=\"gemini-2.5-pro\",\n",
        "    description=\"Performs a weighted analysis of the startup.\",\n",
        "    instruction=instructions.COMPREHENSIVE_EVALUATION_ENGINE_INSTRUCTIONS,\n",
        "    # This agent might not need external tools if all data is provided.\n",
        "    output_key=\"startup_evaluation\"\n",
        ")\n",
        "\n",
        "# Agent 4: Automated Founder Interaction System\n",
        "automated_founder_interaction_system = LlmAgent(\n",
        "    name=\"AutomatedFounderInteractionSystem\",\n",
        "    model=\"gemini-2.5-pro\",\n",
        "    description=\"Interacts with the founder to gather more insights.\",\n",
        "    instruction=instructions.AUTOMATED_FOUNDER_INTERACTION_SYSTEM_INSTRUCTIONS,\n",
        "    # This would integrate with a voice/calling API in a real system.\n",
        "    output_key=\"founder_interaction_summary\"\n",
        ")\n",
        "\n",
        "# The orchestrator for the entire startup evaluation process\n",
        "startup_evaluation_orchestrator = SequentialAgent(\n",
        "    name=\"StartupEvaluationOrchestrator\",\n",
        "    description=\"\"\"\n",
        "    You are an AI Analyst for Startup Evaluation. Your primary function is to manage the\n",
        "    end-to-end process of evaluating a startup, from initial data ingestion to a\n",
        "    refined investment memo. You will coordinate a team of specialized AI agents to handle\n",
        "    each stage of the evaluation.\n",
        "    \"\"\",\n",
        "    sub_agents=[\n",
        "        multi_format_data_processor,\n",
        "        public_data_enrichment_analyst,\n",
        "        comprehensive_evaluation_engine,\n",
        "        automated_founder_interaction_system,\n",
        "    ]\n",
        ")\n",
        "\n",
        "# The root agent that starts the process\n",
        "root_agent = startup_evaluation_orchestrator\n",
        "\n",
        "# To run this, you would provide the initial startup data to the root_agent.\n",
        "# For example:\n",
        "# result = root_agent.run(\"Here is the pitch deck for a new AI startup...\")\n",
        "# The 'result' would be the final, comprehensive investment memo."
      ],
      "outputs": [],
      "execution_count": null,
      "metadata": {
        "id": "KT2Kq7OohKl9"
      }
    }
  ],
  "metadata": {
    "colab": {
      "provenance": [],
      "include_colab_link": true
    },
    "kernelspec": {
      "display_name": "Python 3",
      "name": "python3"
    }
  },
  "nbformat": 4,
  "nbformat_minor": 0
}